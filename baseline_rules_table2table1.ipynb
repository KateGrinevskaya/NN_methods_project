{
  "cells": [
    {
      "cell_type": "markdown",
      "source": [
        "Этот код из столбца с текстом предложений создаёт таблицу\n",
        "\n",
        "id | sent_index | token | tag\n",
        "- | - | - | -\n",
        "1 | 1| слово1 |B-TERM\n",
        "2 | 1| слово2 |O\n",
        "3 | 1| слово3 |B-DEF\n",
        "4 | 1| слово4 |I-DEF\n",
        "\n",
        "В которой передложения с определением размечаются тегами B-TERM, I-TERM, B-DEF, I-DEF O.\n",
        "\n",
        "Если определение не найдено, у всех слов тег O. А has_def для предложения = 0.\n",
        "\n",
        "Можно использовать этот код для первоначальной BIO разметки, которую после ручной выверки можно давать нейросети. "
      ],
      "metadata": {
        "id": "4DMGubxQL2b8"
      },
      "id": "4DMGubxQL2b8"
    },
    {
      "cell_type": "code",
      "source": [
        "! pip install -U 'scikit-learn<0.24'"
      ],
      "metadata": {
        "colab": {
          "base_uri": "https://localhost:8080/"
        },
        "id": "UW-e4dY6PPJv",
        "outputId": "830979b9-ab1f-43f8-d356-32bfc2d458e6"
      },
      "id": "UW-e4dY6PPJv",
      "execution_count": 1,
      "outputs": [
        {
          "output_type": "stream",
          "name": "stdout",
          "text": [
            "Requirement already satisfied: scikit-learn<0.24 in /usr/local/lib/python3.7/dist-packages (0.23.2)\n",
            "Requirement already satisfied: scipy>=0.19.1 in /usr/local/lib/python3.7/dist-packages (from scikit-learn<0.24) (1.4.1)\n",
            "Requirement already satisfied: numpy>=1.13.3 in /usr/local/lib/python3.7/dist-packages (from scikit-learn<0.24) (1.21.5)\n",
            "Requirement already satisfied: threadpoolctl>=2.0.0 in /usr/local/lib/python3.7/dist-packages (from scikit-learn<0.24) (3.1.0)\n",
            "Requirement already satisfied: joblib>=0.11 in /usr/local/lib/python3.7/dist-packages (from scikit-learn<0.24) (1.1.0)\n"
          ]
        }
      ]
    },
    {
      "cell_type": "code",
      "execution_count": 2,
      "id": "eefda098",
      "metadata": {
        "id": "eefda098"
      },
      "outputs": [],
      "source": [
        "import pandas as pd\n",
        "import re\n",
        "import sklearn_crfsuite\n",
        "from sklearn_crfsuite import metrics\n",
        "from sklearn.metrics import classification_report"
      ]
    },
    {
      "cell_type": "code",
      "execution_count": 3,
      "id": "5e5c86bd",
      "metadata": {
        "colab": {
          "base_uri": "https://localhost:8080/"
        },
        "id": "5e5c86bd",
        "outputId": "52c426a5-83b0-448e-c534-d0c460f24956"
      },
      "outputs": [
        {
          "output_type": "stream",
          "name": "stdout",
          "text": [
            "Requirement already satisfied: natasha in /usr/local/lib/python3.7/dist-packages (1.4.0)\n",
            "Requirement already satisfied: ipymarkup>=0.8.0 in /usr/local/lib/python3.7/dist-packages (from natasha) (0.9.0)\n",
            "Requirement already satisfied: slovnet>=0.3.0 in /usr/local/lib/python3.7/dist-packages (from natasha) (0.5.0)\n",
            "Requirement already satisfied: pymorphy2 in /usr/local/lib/python3.7/dist-packages (from natasha) (0.9.1)\n",
            "Requirement already satisfied: navec>=0.9.0 in /usr/local/lib/python3.7/dist-packages (from natasha) (0.10.0)\n",
            "Requirement already satisfied: yargy>=0.14.0 in /usr/local/lib/python3.7/dist-packages (from natasha) (0.15.0)\n",
            "Requirement already satisfied: razdel>=0.5.0 in /usr/local/lib/python3.7/dist-packages (from natasha) (0.5.0)\n",
            "Requirement already satisfied: intervaltree>=3 in /usr/local/lib/python3.7/dist-packages (from ipymarkup>=0.8.0->natasha) (3.1.0)\n",
            "Requirement already satisfied: sortedcontainers<3.0,>=2.0 in /usr/local/lib/python3.7/dist-packages (from intervaltree>=3->ipymarkup>=0.8.0->natasha) (2.4.0)\n",
            "Requirement already satisfied: numpy in /usr/local/lib/python3.7/dist-packages (from navec>=0.9.0->natasha) (1.21.5)\n",
            "Requirement already satisfied: docopt>=0.6 in /usr/local/lib/python3.7/dist-packages (from pymorphy2->natasha) (0.6.2)\n",
            "Requirement already satisfied: pymorphy2-dicts-ru<3.0,>=2.4 in /usr/local/lib/python3.7/dist-packages (from pymorphy2->natasha) (2.4.417127.4579844)\n",
            "Requirement already satisfied: dawg-python>=0.7.1 in /usr/local/lib/python3.7/dist-packages (from pymorphy2->natasha) (0.7.2)\n"
          ]
        }
      ],
      "source": [
        "! pip install natasha"
      ]
    },
    {
      "cell_type": "code",
      "source": [
        "! pip install sklearn-crfsuite"
      ],
      "metadata": {
        "colab": {
          "base_uri": "https://localhost:8080/"
        },
        "id": "1fcGuRh08XBF",
        "outputId": "3e3ca209-5340-45b4-fd23-367d83686ae7"
      },
      "id": "1fcGuRh08XBF",
      "execution_count": 4,
      "outputs": [
        {
          "output_type": "stream",
          "name": "stdout",
          "text": [
            "Requirement already satisfied: sklearn-crfsuite in /usr/local/lib/python3.7/dist-packages (0.3.6)\n",
            "Requirement already satisfied: tabulate in /usr/local/lib/python3.7/dist-packages (from sklearn-crfsuite) (0.8.9)\n",
            "Requirement already satisfied: python-crfsuite>=0.8.3 in /usr/local/lib/python3.7/dist-packages (from sklearn-crfsuite) (0.9.7)\n",
            "Requirement already satisfied: tqdm>=2.0 in /usr/local/lib/python3.7/dist-packages (from sklearn-crfsuite) (4.63.0)\n",
            "Requirement already satisfied: six in /usr/local/lib/python3.7/dist-packages (from sklearn-crfsuite) (1.15.0)\n"
          ]
        }
      ]
    },
    {
      "cell_type": "code",
      "execution_count": 5,
      "id": "1db6e8dc",
      "metadata": {
        "id": "1db6e8dc"
      },
      "outputs": [],
      "source": [
        "from natasha import (\n",
        "    Segmenter,\n",
        "    MorphVocab,\n",
        "    \n",
        "    NewsEmbedding,\n",
        "    NewsMorphTagger,\n",
        "    NewsSyntaxParser,\n",
        "    NewsNERTagger,\n",
        "    \n",
        "    PER,\n",
        "    NamesExtractor,\n",
        "\n",
        "    Doc\n",
        ")\n",
        "\n",
        "\n",
        "segmenter = Segmenter()"
      ]
    },
    {
      "cell_type": "code",
      "execution_count": 6,
      "id": "adaca1bd",
      "metadata": {
        "id": "adaca1bd"
      },
      "outputs": [],
      "source": [
        "punctuation = '''!#$%&*+, -./:;=?@\\^_`|~'''\n",
        "\n",
        "def get_TD_witheto(sent):\n",
        " \n",
        "    pattern = '(?P<term>(.+?)\\s*?)(\\s\\(.*?\\))?\\s—\\sэто\\s(?P<def>.+)'\n",
        "    result = re.search(pattern, sent)\n",
        "\n",
        "    if result:\n",
        "        return [result.group('term'), result.group('def').strip(punctuation)]\n",
        "    return None\n",
        "\n",
        "def get_TD_withdash(sent):\n",
        " \n",
        "    pattern = '(?P<term>(.+?)\\s*?)(\\s\\(.*?\\))?\\s—\\s(это\\s)?(?P<def>.+)'\n",
        "    result = re.search(pattern, sent)\n",
        "\n",
        "    if result:\n",
        "        return [result.group('term'), result.group('def').strip(punctuation)]\n",
        "    return None\n",
        "\n",
        "def get_TD_withie1(sent):\n",
        " \n",
        "    pattern = '(?P<term>(\\S+?))\\s\\(то\\sесть\\s(?P<def>(.+?)\\s*?)\\)'\n",
        "    result = re.search(pattern, sent)\n",
        "\n",
        "    if result:\n",
        "        return [result.group('term'), result.group('def').strip(punctuation)]\n",
        "    return None\n",
        "\n",
        "def get_TD_withie2(sent):\n",
        " \n",
        "    pattern = '(?P<term>(\\S+?)),\\sто\\sесть\\s(?P<def>.+)'\n",
        "    result = re.search(pattern, sent)\n",
        "\n",
        "    if result:\n",
        "        return [result.group('term'), result.group('def').strip(punctuation)]\n",
        "    return None\n",
        "\n",
        "def get_TD_withbrakets(sent):\n",
        " \n",
        "    pattern = '(?P<term>(\\S+?))\\s\\((?P<def>(.+?)\\s*?)\\)'\n",
        "    result = re.search(pattern, sent)\n",
        "\n",
        "    if result:\n",
        "        return [result.group('term'), result.group('def').strip(punctuation)]\n",
        "    return None\n",
        "\n",
        "def get_TD_withnames1(sent):\n",
        " \n",
        "    pattern = '(?P<term>(\\S+?))(,\\sто\\s(он|она|оно|они)\\s)?\\s(называется|называют|является)\\s(также\\s)?(?P<def>.+)'\n",
        "    result = re.search(pattern, sent)\n",
        "\n",
        "    if result:\n",
        "        return [result.group('term'), result.group('def').strip(punctuation)]\n",
        "\n",
        "def get_TD_withnames2(sent):\n",
        " \n",
        "    pattern = '(?P<def>.+?)\\sназываются\\s(?P<term>(\\S+?))'\n",
        "    result = re.search(pattern, sent)\n",
        "\n",
        "    if result:\n",
        "        return [result.group('term'), result.group('def').strip(punctuation)]\n",
        "\n",
        "def get_TD_withmeans(sent):\n",
        " \n",
        "    pattern = '\\sопределяет\\s(?P<term>(\\S+?))\\sкак\\s(?P<def>.+)'\n",
        "    result = re.search(pattern, sent)\n",
        "\n",
        "    if result:\n",
        "        return [result.group('term'), result.group('def').strip(punctuation)]\n",
        "    return None\n",
        "\n",
        "def get_TD_withest(sent):\n",
        " \n",
        "    pattern = '(?P<term>(\\S+?))(\\s.+)\\sесть\\s(?P<def>.+)'\n",
        "    result = re.search(pattern, sent)\n",
        "\n",
        "    if result:\n",
        "        return [result.group('term'), result.group('def').strip(punctuation)]\n",
        "    return None\n",
        "\n",
        "def get_TD_withpodraz(sent):\n",
        " \n",
        "    pattern = '(П|п)од\\s(?P<term>(\\S+?))\\s(подразумевается|(следует\\sпонимать))(?P<def>.+)'\n",
        "    result = re.search(pattern, sent)\n",
        "\n",
        "    if result:\n",
        "        return [result.group('term'), result.group('def').strip(punctuation)]\n",
        "    return None"
      ]
    },
    {
      "cell_type": "code",
      "execution_count": 7,
      "id": "9ca9c61d",
      "metadata": {
        "id": "9ca9c61d"
      },
      "outputs": [],
      "source": [
        "has_def = []\n",
        "\n",
        "# открываем дф\n",
        "df = pd.read_csv('sents_Wiki_tagged.csv', sep=';', dtype={'sent_index': str, 'sent_text': str, 'def': int})\n",
        "\n",
        "# токенизируем, записываем в дф, изначальный тег для всех токенов - О\n",
        "def tokens_to_df(df):\n",
        "    tokens_data = []\n",
        "    for index, row in df.iterrows():\n",
        "        # print(row['sent_text'])\n",
        "        term_def = get_TD_witheto(row['sent_text'])\n",
        "        if term_def == None:\n",
        "            term_def = get_TD_withie1(row['sent_text'])\n",
        "        if term_def == None:\n",
        "            term_def = get_TD_withie2(row['sent_text'])\n",
        "        if term_def == None:\n",
        "            term_def = get_TD_withpodraz(row['sent_text'])\n",
        "        if term_def == None:\n",
        "            term_def = get_TD_withmeans(row['sent_text'])\n",
        "        if term_def == None:\n",
        "            term_def = get_TD_withnames1(row['sent_text'])\n",
        "        if term_def == None:\n",
        "            term_def = get_TD_withnames2(row['sent_text'])\n",
        "        if term_def == None:\n",
        "            term_def = get_TD_withest(row['sent_text'])\n",
        "        if term_def == None:\n",
        "            term_def = get_TD_withdash(row['sent_text'])\n",
        "        #if term_def == None:\n",
        "            #term_def = get_TD_withbrakets(row['sent_text'])\n",
        "        if term_def == None:\n",
        "            term_def = ['', '']\n",
        "        # print(term_def)\n",
        "        doc = Doc(row['sent_text'])\n",
        "        sentences = doc.segment(segmenter)\n",
        "        for tok in doc.tokens:\n",
        "            if tok.text in term_def[0]:\n",
        "                if term_def[0].startswith(tok.text):\n",
        "                    tokens_data.append((row['sent_index'], tok.text, 'B-TERM'))\n",
        "                else:\n",
        "                    tokens_data.append((row['sent_index'], tok.text, 'I-TERM'))\n",
        "            elif tok.text in term_def[1]:\n",
        "                if term_def[1].startswith(tok.text):\n",
        "                    tokens_data.append((row['sent_index'], tok.text, 'B-DEF'))\n",
        "                else:\n",
        "                    tokens_data.append((row['sent_index'], tok.text, 'I-DEF'))\n",
        "            else:\n",
        "                tokens_data.append((row['sent_index'], tok.text, 'O'))\n",
        "        if term_def == ['', '']:\n",
        "            has_def.append(0)\n",
        "        else:\n",
        "            has_def.append(1)\n",
        "    df = pd.DataFrame(tokens_data, columns = ['sent_index', 'token', 'tag'])\n",
        "    return df\n",
        "\n",
        "# делаем новую дф\n",
        "df_table2_rules_tokens = tokens_to_df(df)\n",
        "\n",
        "# сохраняем в .csv\n",
        "df_table2_rules_tokens.to_csv('table2_baseline1.csv', sep=';')"
      ]
    },
    {
      "cell_type": "markdown",
      "source": [
        "# Смотрим качество"
      ],
      "metadata": {
        "id": "5dyNTtSVxg41"
      },
      "id": "5dyNTtSVxg41"
    },
    {
      "cell_type": "markdown",
      "source": [
        "### Качество классификации"
      ],
      "metadata": {
        "id": "p5kVlAuvxseW"
      },
      "id": "p5kVlAuvxseW"
    },
    {
      "cell_type": "code",
      "source": [
        " df['def_rules'] = has_def\n",
        " df"
      ],
      "metadata": {
        "colab": {
          "base_uri": "https://localhost:8080/",
          "height": 554
        },
        "id": "yqUqUe7CqhGW",
        "outputId": "27467cfe-3d84-4c25-80a8-e1ed7e7e583f"
      },
      "id": "yqUqUe7CqhGW",
      "execution_count": 8,
      "outputs": [
        {
          "output_type": "execute_result",
          "data": {
            "text/plain": [
              "     Unnamed: 0 sent_index                                          sent_text  \\\n",
              "0             0          0  Лингви́стика (от лат. lingua «язык»), языкозна...   \n",
              "1             1         12  Как дисциплина, имеющая ряд принципиальных чер...   \n",
              "2             2         13  Лингвистами часто становятся люди, совмещающие...   \n",
              "3             3         15  Лингвистика в широком смысле слова (познание я...   \n",
              "4             4         17  Она бывает:  нормативной: указывающей, как «на...   \n",
              "..          ...        ...                                                ...   \n",
              "921         921      24786  Каждая задача впоследствии оценивается определ...   \n",
              "922         922      24787  Командное соревнование, за исключением первой ...   \n",
              "923         923      24788  Сданное решение оценивается жюри по определённ...   \n",
              "924         924      24789  Официальный сайт со статистикой, условиями и р...   \n",
              "925         925      24790  О переводимости лингвистических задач: Уроки П...   \n",
              "\n",
              "     def  def_rules  \n",
              "0      1          1  \n",
              "1      1          1  \n",
              "2      1          0  \n",
              "3      1          0  \n",
              "4      0          0  \n",
              "..   ...        ...  \n",
              "921    0          0  \n",
              "922    0          0  \n",
              "923    0          0  \n",
              "924    0          0  \n",
              "925    0          0  \n",
              "\n",
              "[926 rows x 5 columns]"
            ],
            "text/html": [
              "\n",
              "  <div id=\"df-c80a2544-5c40-47a5-a110-ad62d3f049b2\">\n",
              "    <div class=\"colab-df-container\">\n",
              "      <div>\n",
              "<style scoped>\n",
              "    .dataframe tbody tr th:only-of-type {\n",
              "        vertical-align: middle;\n",
              "    }\n",
              "\n",
              "    .dataframe tbody tr th {\n",
              "        vertical-align: top;\n",
              "    }\n",
              "\n",
              "    .dataframe thead th {\n",
              "        text-align: right;\n",
              "    }\n",
              "</style>\n",
              "<table border=\"1\" class=\"dataframe\">\n",
              "  <thead>\n",
              "    <tr style=\"text-align: right;\">\n",
              "      <th></th>\n",
              "      <th>Unnamed: 0</th>\n",
              "      <th>sent_index</th>\n",
              "      <th>sent_text</th>\n",
              "      <th>def</th>\n",
              "      <th>def_rules</th>\n",
              "    </tr>\n",
              "  </thead>\n",
              "  <tbody>\n",
              "    <tr>\n",
              "      <th>0</th>\n",
              "      <td>0</td>\n",
              "      <td>0</td>\n",
              "      <td>Лингви́стика (от лат. lingua «язык»), языкозна...</td>\n",
              "      <td>1</td>\n",
              "      <td>1</td>\n",
              "    </tr>\n",
              "    <tr>\n",
              "      <th>1</th>\n",
              "      <td>1</td>\n",
              "      <td>12</td>\n",
              "      <td>Как дисциплина, имеющая ряд принципиальных чер...</td>\n",
              "      <td>1</td>\n",
              "      <td>1</td>\n",
              "    </tr>\n",
              "    <tr>\n",
              "      <th>2</th>\n",
              "      <td>2</td>\n",
              "      <td>13</td>\n",
              "      <td>Лингвистами часто становятся люди, совмещающие...</td>\n",
              "      <td>1</td>\n",
              "      <td>0</td>\n",
              "    </tr>\n",
              "    <tr>\n",
              "      <th>3</th>\n",
              "      <td>3</td>\n",
              "      <td>15</td>\n",
              "      <td>Лингвистика в широком смысле слова (познание я...</td>\n",
              "      <td>1</td>\n",
              "      <td>0</td>\n",
              "    </tr>\n",
              "    <tr>\n",
              "      <th>4</th>\n",
              "      <td>4</td>\n",
              "      <td>17</td>\n",
              "      <td>Она бывает:  нормативной: указывающей, как «на...</td>\n",
              "      <td>0</td>\n",
              "      <td>0</td>\n",
              "    </tr>\n",
              "    <tr>\n",
              "      <th>...</th>\n",
              "      <td>...</td>\n",
              "      <td>...</td>\n",
              "      <td>...</td>\n",
              "      <td>...</td>\n",
              "      <td>...</td>\n",
              "    </tr>\n",
              "    <tr>\n",
              "      <th>921</th>\n",
              "      <td>921</td>\n",
              "      <td>24786</td>\n",
              "      <td>Каждая задача впоследствии оценивается определ...</td>\n",
              "      <td>0</td>\n",
              "      <td>0</td>\n",
              "    </tr>\n",
              "    <tr>\n",
              "      <th>922</th>\n",
              "      <td>922</td>\n",
              "      <td>24787</td>\n",
              "      <td>Командное соревнование, за исключением первой ...</td>\n",
              "      <td>0</td>\n",
              "      <td>0</td>\n",
              "    </tr>\n",
              "    <tr>\n",
              "      <th>923</th>\n",
              "      <td>923</td>\n",
              "      <td>24788</td>\n",
              "      <td>Сданное решение оценивается жюри по определённ...</td>\n",
              "      <td>0</td>\n",
              "      <td>0</td>\n",
              "    </tr>\n",
              "    <tr>\n",
              "      <th>924</th>\n",
              "      <td>924</td>\n",
              "      <td>24789</td>\n",
              "      <td>Официальный сайт со статистикой, условиями и р...</td>\n",
              "      <td>0</td>\n",
              "      <td>0</td>\n",
              "    </tr>\n",
              "    <tr>\n",
              "      <th>925</th>\n",
              "      <td>925</td>\n",
              "      <td>24790</td>\n",
              "      <td>О переводимости лингвистических задач: Уроки П...</td>\n",
              "      <td>0</td>\n",
              "      <td>0</td>\n",
              "    </tr>\n",
              "  </tbody>\n",
              "</table>\n",
              "<p>926 rows × 5 columns</p>\n",
              "</div>\n",
              "      <button class=\"colab-df-convert\" onclick=\"convertToInteractive('df-c80a2544-5c40-47a5-a110-ad62d3f049b2')\"\n",
              "              title=\"Convert this dataframe to an interactive table.\"\n",
              "              style=\"display:none;\">\n",
              "        \n",
              "  <svg xmlns=\"http://www.w3.org/2000/svg\" height=\"24px\"viewBox=\"0 0 24 24\"\n",
              "       width=\"24px\">\n",
              "    <path d=\"M0 0h24v24H0V0z\" fill=\"none\"/>\n",
              "    <path d=\"M18.56 5.44l.94 2.06.94-2.06 2.06-.94-2.06-.94-.94-2.06-.94 2.06-2.06.94zm-11 1L8.5 8.5l.94-2.06 2.06-.94-2.06-.94L8.5 2.5l-.94 2.06-2.06.94zm10 10l.94 2.06.94-2.06 2.06-.94-2.06-.94-.94-2.06-.94 2.06-2.06.94z\"/><path d=\"M17.41 7.96l-1.37-1.37c-.4-.4-.92-.59-1.43-.59-.52 0-1.04.2-1.43.59L10.3 9.45l-7.72 7.72c-.78.78-.78 2.05 0 2.83L4 21.41c.39.39.9.59 1.41.59.51 0 1.02-.2 1.41-.59l7.78-7.78 2.81-2.81c.8-.78.8-2.07 0-2.86zM5.41 20L4 18.59l7.72-7.72 1.47 1.35L5.41 20z\"/>\n",
              "  </svg>\n",
              "      </button>\n",
              "      \n",
              "  <style>\n",
              "    .colab-df-container {\n",
              "      display:flex;\n",
              "      flex-wrap:wrap;\n",
              "      gap: 12px;\n",
              "    }\n",
              "\n",
              "    .colab-df-convert {\n",
              "      background-color: #E8F0FE;\n",
              "      border: none;\n",
              "      border-radius: 50%;\n",
              "      cursor: pointer;\n",
              "      display: none;\n",
              "      fill: #1967D2;\n",
              "      height: 32px;\n",
              "      padding: 0 0 0 0;\n",
              "      width: 32px;\n",
              "    }\n",
              "\n",
              "    .colab-df-convert:hover {\n",
              "      background-color: #E2EBFA;\n",
              "      box-shadow: 0px 1px 2px rgba(60, 64, 67, 0.3), 0px 1px 3px 1px rgba(60, 64, 67, 0.15);\n",
              "      fill: #174EA6;\n",
              "    }\n",
              "\n",
              "    [theme=dark] .colab-df-convert {\n",
              "      background-color: #3B4455;\n",
              "      fill: #D2E3FC;\n",
              "    }\n",
              "\n",
              "    [theme=dark] .colab-df-convert:hover {\n",
              "      background-color: #434B5C;\n",
              "      box-shadow: 0px 1px 3px 1px rgba(0, 0, 0, 0.15);\n",
              "      filter: drop-shadow(0px 1px 2px rgba(0, 0, 0, 0.3));\n",
              "      fill: #FFFFFF;\n",
              "    }\n",
              "  </style>\n",
              "\n",
              "      <script>\n",
              "        const buttonEl =\n",
              "          document.querySelector('#df-c80a2544-5c40-47a5-a110-ad62d3f049b2 button.colab-df-convert');\n",
              "        buttonEl.style.display =\n",
              "          google.colab.kernel.accessAllowed ? 'block' : 'none';\n",
              "\n",
              "        async function convertToInteractive(key) {\n",
              "          const element = document.querySelector('#df-c80a2544-5c40-47a5-a110-ad62d3f049b2');\n",
              "          const dataTable =\n",
              "            await google.colab.kernel.invokeFunction('convertToInteractive',\n",
              "                                                     [key], {});\n",
              "          if (!dataTable) return;\n",
              "\n",
              "          const docLinkHtml = 'Like what you see? Visit the ' +\n",
              "            '<a target=\"_blank\" href=https://colab.research.google.com/notebooks/data_table.ipynb>data table notebook</a>'\n",
              "            + ' to learn more about interactive tables.';\n",
              "          element.innerHTML = '';\n",
              "          dataTable['output_type'] = 'display_data';\n",
              "          await google.colab.output.renderOutput(dataTable, element);\n",
              "          const docLink = document.createElement('div');\n",
              "          docLink.innerHTML = docLinkHtml;\n",
              "          element.appendChild(docLink);\n",
              "        }\n",
              "      </script>\n",
              "    </div>\n",
              "  </div>\n",
              "  "
            ]
          },
          "metadata": {},
          "execution_count": 8
        }
      ]
    },
    {
      "cell_type": "code",
      "source": [
        "error_1_0 = 0  # не найдено существующее определение\n",
        "error_0_1 = 0  # найдено лишнее\n",
        "for index, row in df.iterrows():\n",
        "    if row['def'] > row['def_rules']:\n",
        "        error_1_0 +=1\n",
        "    if row['def'] < row['def_rules']:\n",
        "        error_0_1 +=1\n",
        "error_1_0, error_0_1, len(df)"
      ],
      "metadata": {
        "colab": {
          "base_uri": "https://localhost:8080/"
        },
        "id": "2EcYFquLwGON",
        "outputId": "42436de7-d6a9-4cb6-e9be-ec0ea068ad18"
      },
      "id": "2EcYFquLwGON",
      "execution_count": 9,
      "outputs": [
        {
          "output_type": "execute_result",
          "data": {
            "text/plain": [
              "(25, 103, 926)"
            ]
          },
          "metadata": {},
          "execution_count": 9
        }
      ]
    },
    {
      "cell_type": "code",
      "source": [
        "gold = df['def']\n",
        "pred = df['def_rules']\n",
        "report = classification_report(gold, pred, target_names=['no term-def', 'term-def'])\n",
        "print(report)"
      ],
      "metadata": {
        "colab": {
          "base_uri": "https://localhost:8080/"
        },
        "id": "_q5c7kZvx9tX",
        "outputId": "db64100a-e95a-40b8-dd3d-73ec1fb09935"
      },
      "id": "_q5c7kZvx9tX",
      "execution_count": 10,
      "outputs": [
        {
          "output_type": "stream",
          "name": "stdout",
          "text": [
            "              precision    recall  f1-score   support\n",
            "\n",
            " no term-def       0.93      0.76      0.84       432\n",
            "    term-def       0.82      0.95      0.88       494\n",
            "\n",
            "    accuracy                           0.86       926\n",
            "   macro avg       0.87      0.86      0.86       926\n",
            "weighted avg       0.87      0.86      0.86       926\n",
            "\n"
          ]
        }
      ]
    },
    {
      "cell_type": "markdown",
      "source": [
        "### Качество BIO разметки"
      ],
      "metadata": {
        "id": "Q0QvMV4Lyopm"
      },
      "id": "Q0QvMV4Lyopm"
    },
    {
      "cell_type": "code",
      "source": [
        "# открываем дф\n",
        "df_tags = pd.read_csv('tokens_Wiki_tagged.csv', sep=';', dtype={'sent_index': str, 'token': str, 'tag': str})"
      ],
      "metadata": {
        "id": "8VpOUWJozoe5"
      },
      "id": "8VpOUWJozoe5",
      "execution_count": 11,
      "outputs": []
    },
    {
      "cell_type": "code",
      "source": [
        "df_tags['tag_rules']= list(df_table2_rules_tokens['tag'])"
      ],
      "metadata": {
        "id": "Pp_NhuTP0InK"
      },
      "id": "Pp_NhuTP0InK",
      "execution_count": 12,
      "outputs": []
    },
    {
      "cell_type": "code",
      "source": [
        "df_tags"
      ],
      "metadata": {
        "colab": {
          "base_uri": "https://localhost:8080/",
          "height": 424
        },
        "id": "mbPB5MZn1y_i",
        "outputId": "db9dba47-6a9e-4c92-c8f6-2831addc33f2"
      },
      "id": "mbPB5MZn1y_i",
      "execution_count": 13,
      "outputs": [
        {
          "output_type": "execute_result",
          "data": {
            "text/plain": [
              "       Unnamed: 0 sent_index            token     tag tag_rules\n",
              "0               0          0     Лингви́стика  B-TERM    B-TERM\n",
              "1               1          0                (       O    I-TERM\n",
              "2               2          0               от       O    I-TERM\n",
              "3               3          0              лат       O    I-TERM\n",
              "4               4          0                .       O    I-TERM\n",
              "...           ...        ...              ...     ...       ...\n",
              "26243       26322      24790           Первой       O         O\n",
              "26244       26323      24790    международной       O         O\n",
              "26245       26324      24790  лингвистической       O         O\n",
              "26246       26325      24790        олимпиады       O         O\n",
              "26247       26326      24790                .       O         O\n",
              "\n",
              "[26248 rows x 5 columns]"
            ],
            "text/html": [
              "\n",
              "  <div id=\"df-c6635d04-bc50-4de0-943f-0fd48b3e1859\">\n",
              "    <div class=\"colab-df-container\">\n",
              "      <div>\n",
              "<style scoped>\n",
              "    .dataframe tbody tr th:only-of-type {\n",
              "        vertical-align: middle;\n",
              "    }\n",
              "\n",
              "    .dataframe tbody tr th {\n",
              "        vertical-align: top;\n",
              "    }\n",
              "\n",
              "    .dataframe thead th {\n",
              "        text-align: right;\n",
              "    }\n",
              "</style>\n",
              "<table border=\"1\" class=\"dataframe\">\n",
              "  <thead>\n",
              "    <tr style=\"text-align: right;\">\n",
              "      <th></th>\n",
              "      <th>Unnamed: 0</th>\n",
              "      <th>sent_index</th>\n",
              "      <th>token</th>\n",
              "      <th>tag</th>\n",
              "      <th>tag_rules</th>\n",
              "    </tr>\n",
              "  </thead>\n",
              "  <tbody>\n",
              "    <tr>\n",
              "      <th>0</th>\n",
              "      <td>0</td>\n",
              "      <td>0</td>\n",
              "      <td>Лингви́стика</td>\n",
              "      <td>B-TERM</td>\n",
              "      <td>B-TERM</td>\n",
              "    </tr>\n",
              "    <tr>\n",
              "      <th>1</th>\n",
              "      <td>1</td>\n",
              "      <td>0</td>\n",
              "      <td>(</td>\n",
              "      <td>O</td>\n",
              "      <td>I-TERM</td>\n",
              "    </tr>\n",
              "    <tr>\n",
              "      <th>2</th>\n",
              "      <td>2</td>\n",
              "      <td>0</td>\n",
              "      <td>от</td>\n",
              "      <td>O</td>\n",
              "      <td>I-TERM</td>\n",
              "    </tr>\n",
              "    <tr>\n",
              "      <th>3</th>\n",
              "      <td>3</td>\n",
              "      <td>0</td>\n",
              "      <td>лат</td>\n",
              "      <td>O</td>\n",
              "      <td>I-TERM</td>\n",
              "    </tr>\n",
              "    <tr>\n",
              "      <th>4</th>\n",
              "      <td>4</td>\n",
              "      <td>0</td>\n",
              "      <td>.</td>\n",
              "      <td>O</td>\n",
              "      <td>I-TERM</td>\n",
              "    </tr>\n",
              "    <tr>\n",
              "      <th>...</th>\n",
              "      <td>...</td>\n",
              "      <td>...</td>\n",
              "      <td>...</td>\n",
              "      <td>...</td>\n",
              "      <td>...</td>\n",
              "    </tr>\n",
              "    <tr>\n",
              "      <th>26243</th>\n",
              "      <td>26322</td>\n",
              "      <td>24790</td>\n",
              "      <td>Первой</td>\n",
              "      <td>O</td>\n",
              "      <td>O</td>\n",
              "    </tr>\n",
              "    <tr>\n",
              "      <th>26244</th>\n",
              "      <td>26323</td>\n",
              "      <td>24790</td>\n",
              "      <td>международной</td>\n",
              "      <td>O</td>\n",
              "      <td>O</td>\n",
              "    </tr>\n",
              "    <tr>\n",
              "      <th>26245</th>\n",
              "      <td>26324</td>\n",
              "      <td>24790</td>\n",
              "      <td>лингвистической</td>\n",
              "      <td>O</td>\n",
              "      <td>O</td>\n",
              "    </tr>\n",
              "    <tr>\n",
              "      <th>26246</th>\n",
              "      <td>26325</td>\n",
              "      <td>24790</td>\n",
              "      <td>олимпиады</td>\n",
              "      <td>O</td>\n",
              "      <td>O</td>\n",
              "    </tr>\n",
              "    <tr>\n",
              "      <th>26247</th>\n",
              "      <td>26326</td>\n",
              "      <td>24790</td>\n",
              "      <td>.</td>\n",
              "      <td>O</td>\n",
              "      <td>O</td>\n",
              "    </tr>\n",
              "  </tbody>\n",
              "</table>\n",
              "<p>26248 rows × 5 columns</p>\n",
              "</div>\n",
              "      <button class=\"colab-df-convert\" onclick=\"convertToInteractive('df-c6635d04-bc50-4de0-943f-0fd48b3e1859')\"\n",
              "              title=\"Convert this dataframe to an interactive table.\"\n",
              "              style=\"display:none;\">\n",
              "        \n",
              "  <svg xmlns=\"http://www.w3.org/2000/svg\" height=\"24px\"viewBox=\"0 0 24 24\"\n",
              "       width=\"24px\">\n",
              "    <path d=\"M0 0h24v24H0V0z\" fill=\"none\"/>\n",
              "    <path d=\"M18.56 5.44l.94 2.06.94-2.06 2.06-.94-2.06-.94-.94-2.06-.94 2.06-2.06.94zm-11 1L8.5 8.5l.94-2.06 2.06-.94-2.06-.94L8.5 2.5l-.94 2.06-2.06.94zm10 10l.94 2.06.94-2.06 2.06-.94-2.06-.94-.94-2.06-.94 2.06-2.06.94z\"/><path d=\"M17.41 7.96l-1.37-1.37c-.4-.4-.92-.59-1.43-.59-.52 0-1.04.2-1.43.59L10.3 9.45l-7.72 7.72c-.78.78-.78 2.05 0 2.83L4 21.41c.39.39.9.59 1.41.59.51 0 1.02-.2 1.41-.59l7.78-7.78 2.81-2.81c.8-.78.8-2.07 0-2.86zM5.41 20L4 18.59l7.72-7.72 1.47 1.35L5.41 20z\"/>\n",
              "  </svg>\n",
              "      </button>\n",
              "      \n",
              "  <style>\n",
              "    .colab-df-container {\n",
              "      display:flex;\n",
              "      flex-wrap:wrap;\n",
              "      gap: 12px;\n",
              "    }\n",
              "\n",
              "    .colab-df-convert {\n",
              "      background-color: #E8F0FE;\n",
              "      border: none;\n",
              "      border-radius: 50%;\n",
              "      cursor: pointer;\n",
              "      display: none;\n",
              "      fill: #1967D2;\n",
              "      height: 32px;\n",
              "      padding: 0 0 0 0;\n",
              "      width: 32px;\n",
              "    }\n",
              "\n",
              "    .colab-df-convert:hover {\n",
              "      background-color: #E2EBFA;\n",
              "      box-shadow: 0px 1px 2px rgba(60, 64, 67, 0.3), 0px 1px 3px 1px rgba(60, 64, 67, 0.15);\n",
              "      fill: #174EA6;\n",
              "    }\n",
              "\n",
              "    [theme=dark] .colab-df-convert {\n",
              "      background-color: #3B4455;\n",
              "      fill: #D2E3FC;\n",
              "    }\n",
              "\n",
              "    [theme=dark] .colab-df-convert:hover {\n",
              "      background-color: #434B5C;\n",
              "      box-shadow: 0px 1px 3px 1px rgba(0, 0, 0, 0.15);\n",
              "      filter: drop-shadow(0px 1px 2px rgba(0, 0, 0, 0.3));\n",
              "      fill: #FFFFFF;\n",
              "    }\n",
              "  </style>\n",
              "\n",
              "      <script>\n",
              "        const buttonEl =\n",
              "          document.querySelector('#df-c6635d04-bc50-4de0-943f-0fd48b3e1859 button.colab-df-convert');\n",
              "        buttonEl.style.display =\n",
              "          google.colab.kernel.accessAllowed ? 'block' : 'none';\n",
              "\n",
              "        async function convertToInteractive(key) {\n",
              "          const element = document.querySelector('#df-c6635d04-bc50-4de0-943f-0fd48b3e1859');\n",
              "          const dataTable =\n",
              "            await google.colab.kernel.invokeFunction('convertToInteractive',\n",
              "                                                     [key], {});\n",
              "          if (!dataTable) return;\n",
              "\n",
              "          const docLinkHtml = 'Like what you see? Visit the ' +\n",
              "            '<a target=\"_blank\" href=https://colab.research.google.com/notebooks/data_table.ipynb>data table notebook</a>'\n",
              "            + ' to learn more about interactive tables.';\n",
              "          element.innerHTML = '';\n",
              "          dataTable['output_type'] = 'display_data';\n",
              "          await google.colab.output.renderOutput(dataTable, element);\n",
              "          const docLink = document.createElement('div');\n",
              "          docLink.innerHTML = docLinkHtml;\n",
              "          element.appendChild(docLink);\n",
              "        }\n",
              "      </script>\n",
              "    </div>\n",
              "  </div>\n",
              "  "
            ]
          },
          "metadata": {},
          "execution_count": 13
        }
      ]
    },
    {
      "cell_type": "code",
      "source": [
        "import matplotlib.pyplot as plt\n",
        "from sklearn.metrics import confusion_matrix, ConfusionMatrixDisplay\n",
        "actual_data = df_tags['tag']\n",
        "\n",
        "predicted_data = df_tags['tag_rules']\n",
        "    \n",
        "## Create the Confusion Matrix out of the Actual and Predicted Data.\n",
        "cm = confusion_matrix(actual_data, predicted_data)\n",
        "\n",
        "## Print the Confusion Matrix.\n",
        "print(cm)\n",
        "\n",
        "## Create the Confusion Matrix Display Object(cmd_obj). Note the \n",
        "## alphabetical sorting order of the labels.\n",
        "cmd_obj = ConfusionMatrixDisplay(cm, display_labels=['B-DEF', 'B-TERM', 'I-DEF', 'I-TERM', 'O'])\n",
        "\n",
        "## The plot() function has to be called for the sklearn visualization\n",
        "## code to do its work and the Axes object to be created.\n",
        "cmd_obj.plot()\n",
        "\n",
        "## Use the Axes attribute 'ax_' to get to the underlying Axes object.\n",
        "## The Axes object controls the labels for the X and the Y axes. It\n",
        "## also controls the title.\n",
        "cmd_obj.ax_.set(\n",
        "                title='Sklearn Confusion Matrix', \n",
        "                xlabel='Predicted', \n",
        "                ylabel='True')\n",
        "\n",
        "## Finally, call the matplotlib show() function to display the visualization\n",
        "## of the Confusion Matrix.\n",
        "plt.show()"
      ],
      "metadata": {
        "colab": {
          "base_uri": "https://localhost:8080/",
          "height": 382
        },
        "id": "btC4WXUK-wTb",
        "outputId": "3e80953e-058f-4f15-99cc-25e002aa3fe6"
      },
      "id": "btC4WXUK-wTb",
      "execution_count": 14,
      "outputs": [
        {
          "output_type": "stream",
          "name": "stdout",
          "text": [
            "[[  422     1    27    17    62]\n",
            " [    1   411    18    51   110]\n",
            " [   53    43  7583   716   612]\n",
            " [    2     9    27   388    64]\n",
            " [  145   145  2244  1716 11381]]\n"
          ]
        },
        {
          "output_type": "display_data",
          "data": {
            "text/plain": [
              "<Figure size 432x288 with 2 Axes>"
            ],
            "image/png": "[encoded data removed]"
          },
          "metadata": {
            "needs_background": "light"
          }
        }
      ]
    },
    {
      "cell_type": "code",
      "source": [
        "labels = ['B-DEF', 'B-TERM', 'I-DEF', 'I-TERM', 'O']\n",
        "y_test = [list(df_tags['tag'])]\n",
        "y_pred = [list(df_tags['tag_rules'])]\n",
        "\n",
        "metrics.flat_f1_score(y_test, y_pred, average='weighted', labels=labels)"
      ],
      "metadata": {
        "colab": {
          "base_uri": "https://localhost:8080/"
        },
        "id": "PQysIN9J66ma",
        "outputId": "2b60a58a-dba6-4a08-f418-cbfe3c34a8e4"
      },
      "id": "PQysIN9J66ma",
      "execution_count": 36,
      "outputs": [
        {
          "output_type": "execute_result",
          "data": {
            "text/plain": [
              "0.796286684551161"
            ]
          },
          "metadata": {},
          "execution_count": 36
        }
      ]
    },
    {
      "cell_type": "code",
      "source": [
        "labels = ['B-DEF', 'B-TERM', 'I-DEF', 'I-TERM', 'O']\n",
        "print(metrics.flat_classification_report(y_test, y_pred, labels=labels, digits=3))"
      ],
      "metadata": {
        "colab": {
          "base_uri": "https://localhost:8080/"
        },
        "id": "zo3OXsEz7EQf",
        "outputId": "4d9577c5-698c-4099-81c4-98f0b39c0f6f"
      },
      "id": "zo3OXsEz7EQf",
      "execution_count": 37,
      "outputs": [
        {
          "output_type": "stream",
          "name": "stderr",
          "text": [
            "/usr/local/lib/python3.7/dist-packages/sklearn/utils/validation.py:70: FutureWarning: Pass labels=['B-DEF', 'B-TERM', 'I-DEF', 'I-TERM', 'O'] as keyword args. From version 0.25 passing these as positional arguments will result in an error\n",
            "  FutureWarning)\n"
          ]
        },
        {
          "output_type": "stream",
          "name": "stdout",
          "text": [
            "              precision    recall  f1-score   support\n",
            "\n",
            "       B-DEF      0.677     0.798     0.733       529\n",
            "      B-TERM      0.675     0.695     0.685       591\n",
            "       I-DEF      0.766     0.842     0.802      9007\n",
            "      I-TERM      0.134     0.792     0.230       490\n",
            "           O      0.931     0.728     0.817     15631\n",
            "\n",
            "    accuracy                          0.769     26248\n",
            "   macro avg      0.637     0.771     0.653     26248\n",
            "weighted avg      0.848     0.769     0.796     26248\n",
            "\n"
          ]
        }
      ]
    }
  ],
  "metadata": {
    "kernelspec": {
      "display_name": "Python 3 (ipykernel)",
      "language": "python",
      "name": "python3"
    },
    "language_info": {
      "codemirror_mode": {
        "name": "ipython",
        "version": 3
      },
      "file_extension": ".py",
      "mimetype": "text/x-python",
      "name": "python",
      "nbconvert_exporter": "python",
      "pygments_lexer": "ipython3",
      "version": "3.9.7"
    },
    "colab": {
      "name": "baseline_rules_table2table1.ipynb",
      "provenance": []
    }
  },
  "nbformat": 4,
  "nbformat_minor": 5
}